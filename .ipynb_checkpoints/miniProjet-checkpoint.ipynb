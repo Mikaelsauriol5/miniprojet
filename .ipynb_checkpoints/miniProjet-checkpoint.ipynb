{
 "cells": [
  {
   "cell_type": "code",
   "execution_count": 146,
   "metadata": {},
   "outputs": [],
   "source": [
    "#imports\n",
    "import glob\n",
    "import nltk\n",
    "import re\n",
    "import unidecode\n",
    "from nltk.corpus import stopwords\n",
    "#nltk.download('stopwords')"
   ]
  },
  {
   "cell_type": "code",
   "execution_count": 147,
   "metadata": {},
   "outputs": [],
   "source": [
    "#Combine all the texts into one combinedText\n",
    "read_files = glob.glob('Textes/*.txt')\n",
    "\n",
    "with open('combinedText.txt', 'wb') as outfile:\n",
    "    for f in read_files:\n",
    "        with open(f, 'rb') as infile:\n",
    "            outfile.write(infile.read())"
   ]
  },
  {
   "cell_type": "code",
   "execution_count": 148,
   "metadata": {},
   "outputs": [
    {
     "data": {
      "text/plain": [
       "[\"['a', 'debreceni', 'deri', 'mozeum', 'evkinyve', 'debreceni', 'deri', 'moz', 'evk']\",\n",
       " \"['abhandlungen', 'und', 'berichte', 'des', 'staatlichen', 'museums', 'fur', 'volkerkunde', 'dresden', 'abh', 'ber', 'mus', 'volkerk', 'dresden']\"]"
      ]
     },
     "execution_count": 148,
     "metadata": {},
     "output_type": "execute_result"
    }
   ],
   "source": [
    "#remove punctuation, numbers and lowercases\n",
    "#import unidecode\n",
    "filename = 'combinedText.txt'\n",
    "file = open(filename, encoding=\"utf-8\")\n",
    "data = file.readlines()\n",
    "file.close()\n",
    "text = [[word.lower() for word in text.split()] for text in data]\n",
    "text.pop(0)\n",
    "normalizedText = []\n",
    "for words in text:\n",
    "        normalizedText.append(unidecode.unidecode(re.sub(r'\\d+', '',str(words))))\n",
    "normalizedText[:2]"
   ]
  },
  {
   "cell_type": "code",
   "execution_count": 149,
   "metadata": {},
   "outputs": [
    {
     "data": {
      "text/plain": [
       "[\"['a', 'debreceni', 'deri', 'mozeum', 'evkinyve', 'debreceni', 'deri', 'moz', 'evk']\",\n",
       " \"['abhandlungen', 'und', 'berichte', 'des', 'staatlichen', 'museums', 'fur', 'volkerkunde', 'dresden', 'abh', 'ber', 'mus', 'volkerk', 'dresden']\"]"
      ]
     },
     "execution_count": 149,
     "metadata": {},
     "output_type": "execute_result"
    }
   ],
   "source": [
    "#Remove stop words\n",
    "filtered_words = [word for word in normalizedText if word not in stopwords.words('english')]\n",
    "filtered_words[:2]"
   ]
  },
  {
   "cell_type": "code",
   "execution_count": 150,
   "metadata": {},
   "outputs": [],
   "source": [
    "with open('combinedText.txt', 'w') as f:\n",
    "    for item in filtered_words:\n",
    "        f.write(\"%s\\n\" % item)"
   ]
  },
  {
   "cell_type": "code",
   "execution_count": null,
   "metadata": {},
   "outputs": [],
   "source": []
  }
 ],
 "metadata": {
  "kernelspec": {
   "display_name": "Python 3",
   "language": "python",
   "name": "python3"
  },
  "language_info": {
   "codemirror_mode": {
    "name": "ipython",
    "version": 3
   },
   "file_extension": ".py",
   "mimetype": "text/x-python",
   "name": "python",
   "nbconvert_exporter": "python",
   "pygments_lexer": "ipython3",
   "version": "3.6.4"
  }
 },
 "nbformat": 4,
 "nbformat_minor": 4
}
