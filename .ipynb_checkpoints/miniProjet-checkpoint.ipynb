{
 "cells": [
  {
   "cell_type": "code",
   "execution_count": 9,
   "metadata": {},
   "outputs": [],
   "source": [
    "#imports\n",
    "import glob\n",
    "from itertools import chain\n",
    "import re\n",
    "import fileinput\n",
    "import io"
   ]
  },
  {
   "cell_type": "code",
   "execution_count": 15,
   "metadata": {},
   "outputs": [],
   "source": [
    "#Combine all the texts into one combinedText\n",
    "read_files = glob.glob('Textes/*.txt')\n",
    "\n",
    "with open('combinedText', 'wb') as outfile:\n",
    "    for f in read_files:\n",
    "        with open(f, 'rb') as infile:\n",
    "            outfile.write(infile.read())"
   ]
  },
  {
   "cell_type": "code",
   "execution_count": 17,
   "metadata": {},
   "outputs": [],
   "source": [
    "#remove all numbers\n",
    "file = open(\"combinedText\")\n",
    "lines = file.readlines()\n",
    "print(lines)\n",
    "#for line in lines:\n",
    " #   print(line)\n",
    "    #remove digits\n",
    "  #  result = ''.join(i for i in line if not i.isdigit())\n",
    "    #remove dollar signs\n",
    "   # result = result.replace(\"$\",\"\")\n",
    "    #some other regex, removes all y's\n",
    "    #result = re.sub(\"[Yy]+\", \"\", result)"
   ]
  },
  {
   "cell_type": "code",
   "execution_count": null,
   "metadata": {},
   "outputs": [],
   "source": [
    "#Remove punctuation"
   ]
  },
  {
   "cell_type": "code",
   "execution_count": null,
   "metadata": {},
   "outputs": [],
   "source": [
    "#Put all to lowercase"
   ]
  }
 ],
 "metadata": {
  "kernelspec": {
   "display_name": "Python 3",
   "language": "python",
   "name": "python3"
  },
  "language_info": {
   "codemirror_mode": {
    "name": "ipython",
    "version": 3
   },
   "file_extension": ".py",
   "mimetype": "text/x-python",
   "name": "python",
   "nbconvert_exporter": "python",
   "pygments_lexer": "ipython3",
   "version": "3.6.4"
  }
 },
 "nbformat": 4,
 "nbformat_minor": 4
}
